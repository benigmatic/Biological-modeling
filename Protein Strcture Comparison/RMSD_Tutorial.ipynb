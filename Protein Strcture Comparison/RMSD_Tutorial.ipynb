{
 "cells": [
  {
   "cell_type": "markdown",
   "metadata": {},
   "source": [
    "##  Using RMSD to Compare the Predicted SARS-CoV-2 Spike Protein Against its Experimentally Validated Structure "
   ]
  },
  {
   "cell_type": "code",
   "execution_count": 1,
   "metadata": {},
   "outputs": [],
   "source": [
    "from prody import *"
   ]
  },
  {
   "cell_type": "code",
   "execution_count": 2,
   "metadata": {},
   "outputs": [],
   "source": [
    "def printMatch(match):\n",
    "    print('Chain 1 : {}'.format(match[0]))\n",
    "    print('Chain 2 : {}'.format(match[1]))\n",
    "    print('Length : {}'.format(len(match[0])))\n",
    "    print('Seq identity: {}'.format(match[2]))\n",
    "    print('Seq overlap : {}'.format(match[3]))\n",
    "    print('RMSD : {}\\n'.format(calcRMSD(match[0], match[1])))"
   ]
  },
  {
   "cell_type": "code",
   "execution_count": 3,
   "metadata": {},
   "outputs": [
    {
     "name": "stderr",
     "output_type": "stream",
     "text": [
      "@> 26157 atoms and 1 coordinate set(s) were parsed in 0.21s.\n"
     ]
    }
   ],
   "source": [
    "struct1 = parsePDB('swiss1.pdb')"
   ]
  },
  {
   "cell_type": "code",
   "execution_count": 4,
   "metadata": {},
   "outputs": [
    {
     "name": "stderr",
     "output_type": "stream",
     "text": [
      "@> 23694 atoms and 1 coordinate set(s) were parsed in 0.19s.\n"
     ]
    }
   ],
   "source": [
    "struct2 = parsePDB('6vxx.pdb')"
   ]
  },
  {
   "cell_type": "code",
   "execution_count": 5,
   "metadata": {},
   "outputs": [
    {
     "name": "stderr",
     "output_type": "stream",
     "text": [
      "@> Checking AtomGroup swiss1: 3 chains are identified\n",
      "@> Checking AtomGroup 6vxx: 3 chains are identified\n",
      "@> Trying to match chains based on residue numbers and names:\n",
      "@>   Comparing Chain A from swiss1 (len=1120) and Chain A from 6vxx (len=972):\n",
      "@> \tFailed to match chains (seqid=6%, overlap=85%).\n",
      "@>   Comparing Chain A from swiss1 (len=1120) and Chain B from 6vxx (len=972):\n",
      "@> \tFailed to match chains (seqid=6%, overlap=85%).\n",
      "@>   Comparing Chain A from swiss1 (len=1120) and Chain C from 6vxx (len=972):\n",
      "@> \tFailed to match chains (seqid=6%, overlap=85%).\n",
      "@>   Comparing Chain B from swiss1 (len=1120) and Chain A from 6vxx (len=972):\n",
      "@> \tFailed to match chains (seqid=6%, overlap=85%).\n",
      "@>   Comparing Chain B from swiss1 (len=1120) and Chain B from 6vxx (len=972):\n",
      "@> \tFailed to match chains (seqid=6%, overlap=85%).\n",
      "@>   Comparing Chain B from swiss1 (len=1120) and Chain C from 6vxx (len=972):\n",
      "@> \tFailed to match chains (seqid=6%, overlap=85%).\n",
      "@>   Comparing Chain C from swiss1 (len=1120) and Chain A from 6vxx (len=972):\n",
      "@> \tFailed to match chains (seqid=6%, overlap=85%).\n",
      "@>   Comparing Chain C from swiss1 (len=1120) and Chain B from 6vxx (len=972):\n",
      "@> \tFailed to match chains (seqid=6%, overlap=85%).\n",
      "@>   Comparing Chain C from swiss1 (len=1120) and Chain C from 6vxx (len=972):\n",
      "@> \tFailed to match chains (seqid=6%, overlap=85%).\n",
      "@> Trying to match chains based on local sequence alignment:\n",
      "@>  Comparing Chain A from swiss1 (len=1120) and Chain A from 6vxx (len=972):\n",
      "@> \tMatch: 971 residues match with 100% sequence identity and 87% overlap.\n",
      "@>  Comparing Chain A from swiss1 (len=1120) and Chain B from 6vxx (len=972):\n",
      "@> \tMatch: 971 residues match with 100% sequence identity and 87% overlap.\n",
      "@>  Comparing Chain A from swiss1 (len=1120) and Chain C from 6vxx (len=972):\n",
      "@> \tMatch: 971 residues match with 100% sequence identity and 87% overlap.\n",
      "@>  Comparing Chain B from swiss1 (len=1120) and Chain A from 6vxx (len=972):\n",
      "@> \tMatch: 971 residues match with 100% sequence identity and 87% overlap.\n",
      "@>  Comparing Chain B from swiss1 (len=1120) and Chain B from 6vxx (len=972):\n",
      "@> \tMatch: 971 residues match with 100% sequence identity and 87% overlap.\n",
      "@>  Comparing Chain B from swiss1 (len=1120) and Chain C from 6vxx (len=972):\n",
      "@> \tMatch: 971 residues match with 100% sequence identity and 87% overlap.\n",
      "@>  Comparing Chain C from swiss1 (len=1120) and Chain A from 6vxx (len=972):\n",
      "@> \tMatch: 971 residues match with 100% sequence identity and 87% overlap.\n",
      "@>  Comparing Chain C from swiss1 (len=1120) and Chain B from 6vxx (len=972):\n",
      "@> \tMatch: 971 residues match with 100% sequence identity and 87% overlap.\n",
      "@>  Comparing Chain C from swiss1 (len=1120) and Chain C from 6vxx (len=972):\n",
      "@> \tMatch: 971 residues match with 100% sequence identity and 87% overlap.\n"
     ]
    }
   ],
   "source": [
    "matches = matchChains(struct1,struct2,seqid=75,overlap=80)"
   ]
  },
  {
   "cell_type": "code",
   "execution_count": 6,
   "metadata": {},
   "outputs": [
    {
     "name": "stdout",
     "output_type": "stream",
     "text": [
      "Chain 1 : AtomMap Chain A from swiss1 -> Chain A from 6vxx\n",
      "Chain 2 : AtomMap Chain A from 6vxx -> Chain A from swiss1\n",
      "Length : 971\n",
      "Seq identity: 99.89711934156378\n",
      "Seq overlap : 86.69642857142857\n",
      "RMSD : 32.40892431179063\n",
      "\n",
      "Chain 1 : AtomMap Chain A from swiss1 -> Chain B from 6vxx\n",
      "Chain 2 : AtomMap Chain B from 6vxx -> Chain A from swiss1\n",
      "Length : 971\n",
      "Seq identity: 99.89711934156378\n",
      "Seq overlap : 86.69642857142857\n",
      "RMSD : 47.037995021072824\n",
      "\n",
      "Chain 1 : AtomMap Chain A from swiss1 -> Chain C from 6vxx\n",
      "Chain 2 : AtomMap Chain C from 6vxx -> Chain A from swiss1\n",
      "Length : 971\n",
      "Seq identity: 99.89711934156378\n",
      "Seq overlap : 86.69642857142857\n",
      "RMSD : 58.94181412098118\n",
      "\n",
      "Chain 1 : AtomMap Chain B from swiss1 -> Chain A from 6vxx\n",
      "Chain 2 : AtomMap Chain A from 6vxx -> Chain B from swiss1\n",
      "Length : 971\n",
      "Seq identity: 99.89711934156378\n",
      "Seq overlap : 86.69642857142857\n",
      "RMSD : 67.30652364236154\n",
      "\n",
      "Chain 1 : AtomMap Chain B from swiss1 -> Chain B from 6vxx\n",
      "Chain 2 : AtomMap Chain B from 6vxx -> Chain B from swiss1\n",
      "Length : 971\n",
      "Seq identity: 99.89711934156378\n",
      "Seq overlap : 86.69642857142857\n",
      "RMSD : 48.81581935108342\n",
      "\n",
      "Chain 1 : AtomMap Chain B from swiss1 -> Chain C from 6vxx\n",
      "Chain 2 : AtomMap Chain C from 6vxx -> Chain B from swiss1\n",
      "Length : 971\n",
      "Seq identity: 99.89711934156378\n",
      "Seq overlap : 86.69642857142857\n",
      "RMSD : 33.740250682476784\n",
      "\n",
      "Chain 1 : AtomMap Chain C from swiss1 -> Chain A from 6vxx\n",
      "Chain 2 : AtomMap Chain A from 6vxx -> Chain C from swiss1\n",
      "Length : 971\n",
      "Seq identity: 99.89711934156378\n",
      "Seq overlap : 86.69642857142857\n",
      "RMSD : 51.527440685696\n",
      "\n",
      "Chain 1 : AtomMap Chain C from swiss1 -> Chain B from 6vxx\n",
      "Chain 2 : AtomMap Chain B from 6vxx -> Chain C from swiss1\n",
      "Length : 971\n",
      "Seq identity: 99.89711934156378\n",
      "Seq overlap : 86.69642857142857\n",
      "RMSD : 78.60491318302446\n",
      "\n",
      "Chain 1 : AtomMap Chain C from swiss1 -> Chain C from 6vxx\n",
      "Chain 2 : AtomMap Chain C from 6vxx -> Chain C from swiss1\n",
      "Length : 971\n",
      "Seq identity: 99.89711934156378\n",
      "Seq overlap : 86.69642857142857\n",
      "RMSD : 42.445296947844895\n",
      "\n"
     ]
    }
   ],
   "source": [
    "for match in matches:\n",
    "    printMatch(match)"
   ]
  },
  {
   "cell_type": "markdown",
   "metadata": {},
   "source": [
    "### Calculating RMSD of two chains"
   ]
  },
  {
   "cell_type": "code",
   "execution_count": 7,
   "metadata": {},
   "outputs": [
    {
     "name": "stderr",
     "output_type": "stream",
     "text": [
      "@> WARNING mobile is an AtomMap instance, consider assign weights=mobile.getFlags(\"mapped\") if there are dummy atoms in mobile\n",
      "@> WARNING target is an AtomMap instance, consider assign weights=target.getFlags(\"mapped\") if there are dummy atoms in target\n"
     ]
    },
    {
     "data": {
      "text/plain": [
       "1.6712634720495414"
      ]
     },
     "execution_count": 7,
     "metadata": {},
     "output_type": "execute_result"
    }
   ],
   "source": [
    "first_ca = matches[4][0]\n",
    "second_ca = matches[4][1]\n",
    "calcTransformation(first_ca, second_ca).apply(first_ca);\n",
    "calcRMSD(first_ca,second_ca)"
   ]
  },
  {
   "cell_type": "markdown",
   "metadata": {},
   "source": [
    "### Merging multiple chains to compute RMSD of an overall structure"
   ]
  },
  {
   "cell_type": "code",
   "execution_count": 8,
   "metadata": {},
   "outputs": [
    {
     "name": "stderr",
     "output_type": "stream",
     "text": [
      "@> WARNING mobile is an AtomMap instance, consider assign weights=mobile.getFlags(\"mapped\") if there are dummy atoms in mobile\n",
      "@> WARNING target is an AtomMap instance, consider assign weights=target.getFlags(\"mapped\") if there are dummy atoms in target\n"
     ]
    },
    {
     "data": {
      "text/plain": [
       "5.851843229103558"
      ]
     },
     "execution_count": 8,
     "metadata": {},
     "output_type": "execute_result"
    }
   ],
   "source": [
    "first_ca = matches[0][0] + matches[4][0] + matches[8][0]\n",
    "second_ca = matches [0][1] + matches[4][1] + matches[8][1]\n",
    "calcTransformation(first_ca, second_ca).apply(first_ca);\n",
    "calcRMSD(first_ca, second_ca)"
   ]
  }
 ],
 "metadata": {
  "kernelspec": {
   "display_name": "Python 3",
   "language": "python",
   "name": "python3"
  },
  "language_info": {
   "codemirror_mode": {
    "name": "ipython",
    "version": 3
   },
   "file_extension": ".py",
   "mimetype": "text/x-python",
   "name": "python",
   "nbconvert_exporter": "python",
   "pygments_lexer": "ipython3",
   "version": "3.8.3"
  }
 },
 "nbformat": 4,
 "nbformat_minor": 4
}
